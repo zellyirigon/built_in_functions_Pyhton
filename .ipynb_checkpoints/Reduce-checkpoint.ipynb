{
 "cells": [
  {
   "cell_type": "markdown",
   "id": "98a7816e-f7c8-40a1-bf0d-e6d02cbca7d8",
   "metadata": {},
   "source": [
    "# Built-in Functions in Python"
   ]
  },
  {
   "cell_type": "code",
   "execution_count": 1,
   "id": "a17b1cc9-a537-48d4-b984-a1cac725a666",
   "metadata": {},
   "outputs": [],
   "source": [
    "!pip install -q watermark"
   ]
  },
  {
   "cell_type": "code",
   "execution_count": 2,
   "id": "487d39aa-28f9-44d6-90f6-caf5defd559c",
   "metadata": {},
   "outputs": [
    {
     "name": "stdout",
     "output_type": "stream",
     "text": [
      "Author: Zelly Irigon\n",
      "\n"
     ]
    }
   ],
   "source": [
    "%reload_ext watermark\n",
    "%watermark -a \"Zelly Irigon\""
   ]
  },
  {
   "cell_type": "markdown",
   "id": "4844d0fa-68f8-4797-85cd-241c1ccc520d",
   "metadata": {},
   "source": [
    "## Reduce Function"
   ]
  },
  {
   "cell_type": "markdown",
   "id": "c1d51374-935a-48ba-98de-d548c137c3c2",
   "metadata": {},
   "source": [
    "\n",
    "> The reduce function in Python is part of the functools module and is used to apply a binary function (a function that takes two arguments) cumulatively > to the items of an iterable, reducing the iterable to a single value.\n",
    "\n",
    "> SYNTAX\n",
    "> \n",
    "> from functools import reduce -> \n",
    "reduce(function, iterable[, initializer])\r\n"
   ]
  },
  {
   "cell_type": "code",
   "execution_count": 27,
   "id": "148bcd74-bbf2-494f-b4b3-cd2c90da164b",
   "metadata": {},
   "outputs": [],
   "source": [
    "from functools import reduce"
   ]
  },
  {
   "cell_type": "code",
   "execution_count": 28,
   "id": "aaacda45-f17c-48d9-8ed4-3de86f12c895",
   "metadata": {},
   "outputs": [
    {
     "data": {
      "text/plain": [
       "[47, 11, 42, 13]"
      ]
     },
     "execution_count": 28,
     "metadata": {},
     "output_type": "execute_result"
    }
   ],
   "source": [
    "list = [47, 11, 42, 13]\n",
    "list"
   ]
  },
  {
   "cell_type": "code",
   "execution_count": 29,
   "id": "7f72884b-4338-451e-be5e-5609f6e43672",
   "metadata": {},
   "outputs": [
    {
     "data": {
      "text/plain": [
       "113"
      ]
     },
     "execution_count": 29,
     "metadata": {},
     "output_type": "execute_result"
    }
   ],
   "source": [
    "# Function\n",
    "def sum (a, b):\n",
    "    x = a + b\n",
    "    return x\n",
    "reduce(sum, list)"
   ]
  },
  {
   "cell_type": "code",
   "execution_count": 30,
   "id": "60f178b2-0856-4739-99b4-aefbbc9442b8",
   "metadata": {},
   "outputs": [
    {
     "data": {
      "text/plain": [
       "113"
      ]
     },
     "execution_count": 30,
     "metadata": {},
     "output_type": "execute_result"
    }
   ],
   "source": [
    "# Using Lambda\n",
    "reduce(lambda x, y: x +y, list)"
   ]
  },
  {
   "cell_type": "code",
   "execution_count": 31,
   "id": "83d4bdb4-1b36-42ca-974c-dd7b1c862460",
   "metadata": {},
   "outputs": [],
   "source": [
    "# Finding the max value in a list the number\n",
    "max_value = lambda x, y: x if (x > y) else y"
   ]
  },
  {
   "cell_type": "code",
   "execution_count": 32,
   "id": "76051051-54ac-4e6d-95d0-07884999f25b",
   "metadata": {},
   "outputs": [
    {
     "data": {
      "text/plain": [
       "function"
      ]
     },
     "execution_count": 32,
     "metadata": {},
     "output_type": "execute_result"
    }
   ],
   "source": [
    "type(max_value)"
   ]
  },
  {
   "cell_type": "code",
   "execution_count": 33,
   "id": "8b9bf2a5-ca98-43dd-b9fb-94e9ee080b6e",
   "metadata": {},
   "outputs": [
    {
     "data": {
      "text/plain": [
       "47"
      ]
     },
     "execution_count": 33,
     "metadata": {},
     "output_type": "execute_result"
    }
   ],
   "source": [
    "# Reducing the list until the max value found above\n",
    "reduce(max_value, list)"
   ]
  },
  {
   "cell_type": "code",
   "execution_count": 34,
   "id": "4078bf24-b7a1-499a-930a-8cad0256d797",
   "metadata": {},
   "outputs": [
    {
     "data": {
      "text/plain": [
       "47"
      ]
     },
     "execution_count": 34,
     "metadata": {},
     "output_type": "execute_result"
    }
   ],
   "source": [
    "# Another way to finding the max value in a list the number\n",
    "max_value = reduce(lambda x, y: x if (x > y) else y, list)\n",
    "max_value"
   ]
  },
  {
   "cell_type": "markdown",
   "id": "f7329128-980f-4ee0-a397-fcfad35b9cbf",
   "metadata": {},
   "source": [
    "# End"
   ]
  }
 ],
 "metadata": {
  "kernelspec": {
   "display_name": "Python 3 (ipykernel)",
   "language": "python",
   "name": "python3"
  },
  "language_info": {
   "codemirror_mode": {
    "name": "ipython",
    "version": 3
   },
   "file_extension": ".py",
   "mimetype": "text/x-python",
   "name": "python",
   "nbconvert_exporter": "python",
   "pygments_lexer": "ipython3",
   "version": "3.11.7"
  }
 },
 "nbformat": 4,
 "nbformat_minor": 5
}
