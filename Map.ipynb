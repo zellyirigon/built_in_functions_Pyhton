{
 "cells": [
  {
   "cell_type": "markdown",
   "id": "9fc4c529-eabc-4386-a9d7-2013c47a51cd",
   "metadata": {},
   "source": [
    "# Built-in Functions in Python"
   ]
  },
  {
   "cell_type": "code",
   "execution_count": 1,
   "id": "affe17f1-ada9-4b73-a31a-3329d11d2285",
   "metadata": {},
   "outputs": [],
   "source": [
    "!pip install -q watermark"
   ]
  },
  {
   "cell_type": "code",
   "execution_count": 3,
   "id": "530f406a-a9fa-4061-822d-2b9e48d88374",
   "metadata": {},
   "outputs": [
    {
     "name": "stdout",
     "output_type": "stream",
     "text": [
      "Author: Zelly Irigon\n",
      "\n"
     ]
    }
   ],
   "source": [
    "%reload_ext watermark\n",
    "%watermark -a \"Zelly Irigon'"
   ]
  },
  {
   "cell_type": "markdown",
   "id": "bcb06373-efa2-4fd7-aa1c-286dbfee4ca0",
   "metadata": {},
   "source": [
    "# Map Function\n",
    "> The map function in Python applies a **specified function** to each item of an iterable (like a list, tuple, or string) and **returns a map object (which is an iterator)**.\n",
    "\n",
    "> Map Syntax -> map(function, iterable, ...)"
   ]
  },
  {
   "cell_type": "code",
   "execution_count": 4,
   "id": "5bcd72c3-f872-4b9a-bc26-7f9ff57a2028",
   "metadata": {},
   "outputs": [],
   "source": [
    "# Function that return a square\n",
    "def square(x):\n",
    "    return x**2"
   ]
  },
  {
   "cell_type": "code",
   "execution_count": 5,
   "id": "e4cb12e8-70ed-4e55-8bbc-20745b2566d2",
   "metadata": {},
   "outputs": [],
   "source": [
    "numbers =[2,4,5,8,3]"
   ]
  },
  {
   "cell_type": "code",
   "execution_count": 6,
   "id": "90de2622-b245-4b12-be80-ab802a495abc",
   "metadata": {},
   "outputs": [
    {
     "data": {
      "text/plain": [
       "[4, 16, 25, 64, 9]"
      ]
     },
     "execution_count": 6,
     "metadata": {},
     "output_type": "execute_result"
    }
   ],
   "source": [
    "# Map Syntax -> map(function, iterable, ...)\n",
    "result = list(map(square, numbers))\n",
    "result"
   ]
  },
  {
   "cell_type": "code",
   "execution_count": 24,
   "id": "3272bbe6-88ec-4316-aa5d-dd22d5a00aa8",
   "metadata": {},
   "outputs": [
    {
     "name": "stdout",
     "output_type": "stream",
     "text": [
      "[1, 4, 9, 16, 25]\n"
     ]
    }
   ],
   "source": [
    "# Using Lambda \n",
    "numbers = [1, 2, 3, 4, 5]\n",
    "squared = map(lambda x: x**2, numbers)\n",
    "print(list(squared)) "
   ]
  },
  {
   "cell_type": "code",
   "execution_count": 19,
   "id": "56573ca2-4811-4711-aaf4-6caaefa41c78",
   "metadata": {},
   "outputs": [],
   "source": [
    "# Another Example\n",
    "# Function 1 - Takes a temperature as a parameter and returns it in Fahrenheit\n",
    "def fahrenheit(T):\n",
    "    return((float(9)/5) * T + 32)\n",
    "# Function 2 - Receives a temperature as a parameter and returns it in Celsius\n",
    "def celsius(T):\n",
    "    return (float(5)/9) * (T-32)"
   ]
  },
  {
   "cell_type": "code",
   "execution_count": 20,
   "id": "b159e844-ecbb-4446-866b-ca8dd85b3b6d",
   "metadata": {},
   "outputs": [],
   "source": [
    "# Creating the list\n",
    "temperatures = [0, 22.5, 40, 100]"
   ]
  },
  {
   "cell_type": "code",
   "execution_count": 21,
   "id": "0f7d778f-99f1-4205-8cae-04f0f8376603",
   "metadata": {},
   "outputs": [
    {
     "data": {
      "text/plain": [
       "[32.0, 72.5, 104.0, 212.0]"
      ]
     },
     "execution_count": 21,
     "metadata": {},
     "output_type": "execute_result"
    }
   ],
   "source": [
    "# Applying Map \n",
    "list(map(fahrenheit, temperatures))"
   ]
  },
  {
   "cell_type": "code",
   "execution_count": 22,
   "id": "ce516a24-e99c-4dd4-9a0c-f573fe16417f",
   "metadata": {},
   "outputs": [
    {
     "name": "stdout",
     "output_type": "stream",
     "text": [
      "32.0\n",
      "72.5\n",
      "104.0\n",
      "212.0\n"
     ]
    }
   ],
   "source": [
    "# Using a loop fo to print the list converted\n",
    "for temp in map(fahrenheit, temperatures):\n",
    "    print(temp)"
   ]
  },
  {
   "cell_type": "code",
   "execution_count": 23,
   "id": "df074db5-700a-43ab-bfdc-458ab073bc7f",
   "metadata": {},
   "outputs": [
    {
     "name": "stdout",
     "output_type": "stream",
     "text": [
      "-17.77777777777778\n",
      "-5.277777777777778\n",
      "4.444444444444445\n",
      "37.77777777777778\n"
     ]
    }
   ],
   "source": [
    "# Celsius case\n",
    "for temp in map(celsius, temperatures):\n",
    "    print(temp)"
   ]
  },
  {
   "cell_type": "code",
   "execution_count": 27,
   "id": "cfa5b773-315d-4596-9d0a-0703c5094fb5",
   "metadata": {},
   "outputs": [
    {
     "name": "stdout",
     "output_type": "stream",
     "text": [
      "[32.0, 72.5, 104.0, 212.0]\n"
     ]
    }
   ],
   "source": [
    "# Using Lambda Expression\n",
    "temp = map(lambda x : (float(9)/5) * x +32, temperatures)\n",
    "print(list(temp))"
   ]
  },
  {
   "cell_type": "code",
   "execution_count": 28,
   "id": "96c26579-f16f-434b-8d46-19ee03976ecc",
   "metadata": {},
   "outputs": [],
   "source": [
    "# One more example\n",
    "# Sum elements from the 2 lists\n",
    "a = [1,25,2,36]\n",
    "b = [2,5,9,1]"
   ]
  },
  {
   "cell_type": "code",
   "execution_count": 34,
   "id": "352d2c5e-a955-461b-8207-95acb25bbd73",
   "metadata": {},
   "outputs": [
    {
     "data": {
      "text/plain": [
       "[3, 30, 11, 37]"
      ]
     },
     "execution_count": 34,
     "metadata": {},
     "output_type": "execute_result"
    }
   ],
   "source": [
    "list(map(lambda a, b : a + b, a, b))"
   ]
  },
  {
   "cell_type": "code",
   "execution_count": 35,
   "id": "c05da06e-4431-4076-810a-1c48c6cf68b6",
   "metadata": {},
   "outputs": [
    {
     "data": {
      "text/plain": [
       "[31, 38, 97, 19]"
      ]
     },
     "execution_count": 35,
     "metadata": {},
     "output_type": "execute_result"
    }
   ],
   "source": [
    "# Last Example\n",
    "# Sum elements from the 3 lists\n",
    "x = [15,25,89,6]\n",
    "y = [1,5,2,6]\n",
    "z = [15,8,6,7]\n",
    "\n",
    "list(map(lambda x, y, z : x + y +z, x, y ,z))"
   ]
  },
  {
   "cell_type": "markdown",
   "id": "66eaaea3-1f9e-408e-8770-23082f820a2f",
   "metadata": {},
   "source": [
    "# End"
   ]
  }
 ],
 "metadata": {
  "kernelspec": {
   "display_name": "Python 3 (ipykernel)",
   "language": "python",
   "name": "python3"
  },
  "language_info": {
   "codemirror_mode": {
    "name": "ipython",
    "version": 3
   },
   "file_extension": ".py",
   "mimetype": "text/x-python",
   "name": "python",
   "nbconvert_exporter": "python",
   "pygments_lexer": "ipython3",
   "version": "3.11.7"
  }
 },
 "nbformat": 4,
 "nbformat_minor": 5
}
