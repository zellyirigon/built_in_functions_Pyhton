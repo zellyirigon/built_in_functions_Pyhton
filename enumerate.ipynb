{
 "cells": [
  {
   "cell_type": "markdown",
   "id": "4846a9ce-0af5-45e7-a9ce-0712f0785943",
   "metadata": {},
   "source": [
    "# Built-in Functions in Python"
   ]
  },
  {
   "cell_type": "code",
   "execution_count": 1,
   "id": "a7ac59e6-b436-43f5-acd2-17c19934061f",
   "metadata": {},
   "outputs": [],
   "source": [
    "!pip install -q -U watermark"
   ]
  },
  {
   "cell_type": "code",
   "execution_count": 2,
   "id": "49c20736-40cf-4ca4-a448-cd624798f881",
   "metadata": {},
   "outputs": [
    {
     "name": "stdout",
     "output_type": "stream",
     "text": [
      "Author: Zelly Irigon\n",
      "\n"
     ]
    }
   ],
   "source": [
    "%reload_ext watermark\n",
    "%watermark -a \"Zelly Irigon\""
   ]
  },
  {
   "cell_type": "markdown",
   "id": "9ef69663-0e55-4a1f-a9b2-b59a3a33fa11",
   "metadata": {},
   "source": [
    "## Enumerate Function\n",
    "\n",
    "The **enumerate() function** in Python adds a counter to an iterable and returns it as an enumerate object, which can be converted to a list of tuples or iterated over directly. Each tuple contains a count (starting from 0 by default) and the value from the iterable.\n",
    "\n",
    "**Key Points**\n",
    "* Adds a counter to an iterable.\n",
    "* Returns an enumerate object.\n",
    "* Can specify the starting value of the counter (optional).\n",
    "\n",
    "**Syntax**\n",
    "enumerate(iterable, start=0)\r\n"
   ]
  },
  {
   "cell_type": "code",
   "execution_count": 3,
   "id": "25149412-beb4-4603-905d-8624458926fd",
   "metadata": {},
   "outputs": [],
   "source": [
    "# Creating a list\n",
    "seq = ['a','b','c']"
   ]
  },
  {
   "cell_type": "code",
   "execution_count": 4,
   "id": "490a424d-eebb-443b-b8a4-0894ef89dfd3",
   "metadata": {},
   "outputs": [
    {
     "data": {
      "text/plain": [
       "<enumerate at 0x2761c126bb0>"
      ]
     },
     "execution_count": 4,
     "metadata": {},
     "output_type": "execute_result"
    }
   ],
   "source": [
    "enumerate(seq)"
   ]
  },
  {
   "cell_type": "code",
   "execution_count": 5,
   "id": "87aff9e0-a8d3-4a73-a133-be781448b467",
   "metadata": {},
   "outputs": [
    {
     "data": {
      "text/plain": [
       "[(0, 'a'), (1, 'b'), (2, 'c')]"
      ]
     },
     "execution_count": 5,
     "metadata": {},
     "output_type": "execute_result"
    }
   ],
   "source": [
    "list(enumerate(seq))"
   ]
  },
  {
   "cell_type": "code",
   "execution_count": 6,
   "id": "6066d75a-b394-42d8-b459-7bf3ce9b2ab3",
   "metadata": {},
   "outputs": [
    {
     "name": "stdout",
     "output_type": "stream",
     "text": [
      "0 a\n",
      "1 b\n",
      "2 c\n"
     ]
    }
   ],
   "source": [
    "# Printing the values of a list \n",
    "for index, value in enumerate(seq):\n",
    "    print(index, value)"
   ]
  },
  {
   "cell_type": "code",
   "execution_count": 14,
   "id": "ca6c5df7-e7e8-4205-9f48-d96e19f055d5",
   "metadata": {},
   "outputs": [
    {
     "name": "stdout",
     "output_type": "stream",
     "text": [
      "a\n",
      "b\n"
     ]
    }
   ],
   "source": [
    "for index, value in enumerate(seq):\n",
    "    if index >= 2:\n",
    "        break\n",
    "    else:\n",
    "        print(value)"
   ]
  },
  {
   "cell_type": "code",
   "execution_count": 8,
   "id": "9221a9e7-c2bf-4a2d-968b-57ba9344950d",
   "metadata": {},
   "outputs": [],
   "source": [
    "lst = ['Marketing', 'Technology', 'Business']"
   ]
  },
  {
   "cell_type": "code",
   "execution_count": 9,
   "id": "09ded20f-bbe0-421d-ac0c-662f974bf0a5",
   "metadata": {},
   "outputs": [
    {
     "name": "stdout",
     "output_type": "stream",
     "text": [
      "0 Marketing\n",
      "1 Technology\n",
      "2 Business\n"
     ]
    }
   ],
   "source": [
    "for i, item in enumerate(lst):\n",
    "    print(i, item)"
   ]
  },
  {
   "cell_type": "code",
   "execution_count": 10,
   "id": "b208bd93-8265-48d1-8488-b00abdd34e4e",
   "metadata": {},
   "outputs": [
    {
     "name": "stdout",
     "output_type": "stream",
     "text": [
      "0 L\n",
      "1 e\n",
      "2 a\n",
      "3 r\n",
      "4 n\n",
      "5 i\n",
      "6 n\n",
      "7 g\n",
      "8  \n",
      "9 P\n",
      "10 y\n",
      "11 t\n",
      "12 h\n",
      "13 o\n",
      "14 n\n"
     ]
    }
   ],
   "source": [
    "for i , item in enumerate('Learning Python'):\n",
    "    print(i, item)"
   ]
  },
  {
   "cell_type": "code",
   "execution_count": 15,
   "id": "01f102b3-2af9-482f-9d64-022440a2c814",
   "metadata": {},
   "outputs": [
    {
     "name": "stdout",
     "output_type": "stream",
     "text": [
      "0 0\n",
      "1 1\n",
      "2 2\n",
      "3 3\n",
      "4 4\n",
      "5 5\n",
      "6 6\n",
      "7 7\n",
      "8 8\n",
      "9 9\n"
     ]
    }
   ],
   "source": [
    "for i, item in enumerate(range(10)):\n",
    "    print(i,item)"
   ]
  },
  {
   "cell_type": "markdown",
   "id": "7efd57f8-a79c-4745-ae69-cbaef614cf9b",
   "metadata": {},
   "source": [
    "# End"
   ]
  }
 ],
 "metadata": {
  "kernelspec": {
   "display_name": "Python 3 (ipykernel)",
   "language": "python",
   "name": "python3"
  },
  "language_info": {
   "codemirror_mode": {
    "name": "ipython",
    "version": 3
   },
   "file_extension": ".py",
   "mimetype": "text/x-python",
   "name": "python",
   "nbconvert_exporter": "python",
   "pygments_lexer": "ipython3",
   "version": "3.11.7"
  }
 },
 "nbformat": 4,
 "nbformat_minor": 5
}
