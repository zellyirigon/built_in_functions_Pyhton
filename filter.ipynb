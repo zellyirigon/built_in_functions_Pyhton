{
 "cells": [
  {
   "cell_type": "markdown",
   "id": "ae05506b-8bb7-498c-a285-375168ee4414",
   "metadata": {},
   "source": [
    "# Built-in Functions in Python"
   ]
  },
  {
   "cell_type": "code",
   "execution_count": 2,
   "id": "77496178-89e5-4d63-90ef-092c9632dc31",
   "metadata": {},
   "outputs": [],
   "source": [
    "!pip install -q -U watermark"
   ]
  },
  {
   "cell_type": "code",
   "execution_count": 3,
   "id": "e29068f6-b4e2-4e92-b1d1-9b5f858ca728",
   "metadata": {},
   "outputs": [
    {
     "name": "stdout",
     "output_type": "stream",
     "text": [
      "Author: Zelly Irigon\n",
      "\n"
     ]
    }
   ],
   "source": [
    "%reload_ext watermark\n",
    "%watermark -a \"Zelly Irigon\""
   ]
  },
  {
   "cell_type": "markdown",
   "id": "e259428b-f953-4ad4-9f3e-f9e7f85b0bd3",
   "metadata": {},
   "source": [
    "## Filter Function\n",
    "\n",
    "The **filter() function** in Python filters elements from an iterable structure. It applies a specified function to each element in the iterable and includes only those elements for which the function returns True in the output.\n",
    "\n",
    "**Syntax**\n",
    "\n",
    "     filter(function, iterable)\r\n"
   ]
  },
  {
   "cell_type": "code",
   "execution_count": 15,
   "id": "8b6fa97c-b765-44b1-896a-29794f649676",
   "metadata": {},
   "outputs": [],
   "source": [
    "# Creating the function\n",
    "def validate(num):\n",
    "    if num % 2 ==0:\n",
    "        return True\n",
    "    else:\n",
    "        return False"
   ]
  },
  {
   "cell_type": "code",
   "execution_count": 16,
   "id": "b3df55c8-9542-4234-92fc-3509dc656f33",
   "metadata": {},
   "outputs": [
    {
     "data": {
      "text/plain": [
       "False"
      ]
     },
     "execution_count": 16,
     "metadata": {},
     "output_type": "execute_result"
    }
   ],
   "source": [
    "# Calling the function and providing a parameter. It'll return false if it is odd and true if is even.\n",
    "validate(35)"
   ]
  },
  {
   "cell_type": "code",
   "execution_count": 17,
   "id": "9fc12fd0-305e-4180-9386-b73773140e94",
   "metadata": {},
   "outputs": [
    {
     "data": {
      "text/plain": [
       "True"
      ]
     },
     "execution_count": 17,
     "metadata": {},
     "output_type": "execute_result"
    }
   ],
   "source": [
    "validate(10)"
   ]
  },
  {
   "cell_type": "code",
   "execution_count": 18,
   "id": "e106b907-ea3b-439f-aeb9-0d595225e09c",
   "metadata": {},
   "outputs": [
    {
     "data": {
      "text/plain": [
       "[0, 1, 2, 3, 4, 5, 6, 7, 8, 9, 10, 11, 12, 13, 14, 15, 16, 17, 18]"
      ]
     },
     "execution_count": 18,
     "metadata": {},
     "output_type": "execute_result"
    }
   ],
   "source": [
    "lst= list(range(0, 19))\n",
    "lst"
   ]
  },
  {
   "cell_type": "code",
   "execution_count": 19,
   "id": "69eeb31a-7400-43a8-9df1-898f3880d3e2",
   "metadata": {},
   "outputs": [
    {
     "data": {
      "text/plain": [
       "<filter at 0x237c904edd0>"
      ]
     },
     "execution_count": 19,
     "metadata": {},
     "output_type": "execute_result"
    }
   ],
   "source": [
    "# Filter function returns an interator\n",
    "filter(validate,lst)"
   ]
  },
  {
   "cell_type": "code",
   "execution_count": 20,
   "id": "08ca830f-20d7-43d3-87f6-68474c180033",
   "metadata": {},
   "outputs": [
    {
     "data": {
      "text/plain": [
       "[0, 2, 4, 6, 8, 10, 12, 14, 16, 18]"
      ]
     },
     "execution_count": 20,
     "metadata": {},
     "output_type": "execute_result"
    }
   ],
   "source": [
    "list(filter(validate,lst))"
   ]
  },
  {
   "cell_type": "code",
   "execution_count": 21,
   "id": "8c6891bf-8314-427c-b194-b51e9ff686eb",
   "metadata": {},
   "outputs": [
    {
     "data": {
      "text/plain": [
       "[0, 2, 4, 6, 8, 10, 12, 14, 16, 18]"
      ]
     },
     "execution_count": 21,
     "metadata": {},
     "output_type": "execute_result"
    }
   ],
   "source": [
    "list(filter(lambda x: x%2 ==0, lst))"
   ]
  },
  {
   "cell_type": "code",
   "execution_count": 22,
   "id": "459d0a15-9aa5-4c01-b5b5-0e9d5eea5db4",
   "metadata": {},
   "outputs": [
    {
     "data": {
      "text/plain": [
       "[9, 10, 11, 12, 13, 14, 15, 16, 17, 18]"
      ]
     },
     "execution_count": 22,
     "metadata": {},
     "output_type": "execute_result"
    }
   ],
   "source": [
    "list(filter(lambda num: num > 8, lst))"
   ]
  },
  {
   "cell_type": "markdown",
   "id": "8729e4f4-1f61-45f0-9d74-43722ebb3979",
   "metadata": {},
   "source": [
    "# End"
   ]
  }
 ],
 "metadata": {
  "kernelspec": {
   "display_name": "Python 3 (ipykernel)",
   "language": "python",
   "name": "python3"
  },
  "language_info": {
   "codemirror_mode": {
    "name": "ipython",
    "version": 3
   },
   "file_extension": ".py",
   "mimetype": "text/x-python",
   "name": "python",
   "nbconvert_exporter": "python",
   "pygments_lexer": "ipython3",
   "version": "3.11.7"
  }
 },
 "nbformat": 4,
 "nbformat_minor": 5
}
