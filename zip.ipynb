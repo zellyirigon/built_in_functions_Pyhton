{
 "cells": [
  {
   "cell_type": "markdown",
   "id": "5fdc63b0-1f00-4f45-9f40-cbaca3d38c4a",
   "metadata": {},
   "source": [
    "# Built-in Functions in Python"
   ]
  },
  {
   "cell_type": "code",
   "execution_count": 1,
   "id": "99c1b21b-037e-40bf-9b56-df276818bb66",
   "metadata": {},
   "outputs": [],
   "source": [
    "!pip install -q -U watermark"
   ]
  },
  {
   "cell_type": "code",
   "execution_count": 2,
   "id": "a185d7b5-99b5-42bd-9472-2d0af7505354",
   "metadata": {},
   "outputs": [
    {
     "name": "stdout",
     "output_type": "stream",
     "text": [
      "Author: Zelly Irigon\n",
      "\n"
     ]
    }
   ],
   "source": [
    "%reload_ext watermark\n",
    "%watermark -a \"Zelly Irigon\""
   ]
  },
  {
   "cell_type": "markdown",
   "id": "d516efea-3f2f-4e64-b12f-2814108f3b1d",
   "metadata": {},
   "source": [
    "## Zip Function\n",
    "\n",
    "The **zip() function** in Python combines multiple iterables (like lists, tuples, etc.) element-wise, producing tuples that contain one element from each iterable. It stops when the shortest input iterable is exhausted.\n",
    "\n",
    "**Key Points**\n",
    "* Combines elements from multiple iterables.\n",
    "* Stops when the shortest iterable is exhausted.\n",
    "* Returns an iterator of tuples.\n",
    "You can convert the result to a list or another collection type if needed.\n",
    "\n",
    "**Syntax**\n",
    "\n",
    "zip(iterable1, iterable2, ...)\r\n"
   ]
  },
  {
   "cell_type": "code",
   "execution_count": 6,
   "id": "6a2e1f6d-24f9-4ee3-b8eb-0f3371c2ac9d",
   "metadata": {},
   "outputs": [],
   "source": [
    "# Creating lists\n",
    "x = [2,5,8,3]\n",
    "y = [9,3,6,4]"
   ]
  },
  {
   "cell_type": "code",
   "execution_count": 7,
   "id": "89bce13f-b740-42a9-ba1f-28a1f4d75c91",
   "metadata": {},
   "outputs": [
    {
     "data": {
      "text/plain": [
       "<zip at 0x28d4e8af200>"
      ]
     },
     "execution_count": 7,
     "metadata": {},
     "output_type": "execute_result"
    }
   ],
   "source": [
    "# Combining the lists in Python returns an interator\n",
    "zip(x,y)"
   ]
  },
  {
   "cell_type": "code",
   "execution_count": 8,
   "id": "8277a821-a39b-4ee2-9e05-f231255bc007",
   "metadata": {},
   "outputs": [
    {
     "data": {
      "text/plain": [
       "[(2, 9), (5, 3), (8, 6), (3, 4)]"
      ]
     },
     "execution_count": 8,
     "metadata": {},
     "output_type": "execute_result"
    }
   ],
   "source": [
    "list(zip(x,y))"
   ]
  },
  {
   "cell_type": "code",
   "execution_count": 18,
   "id": "90f3e29e-8ca1-4f5d-86ac-6b11ea94bd12",
   "metadata": {},
   "outputs": [
    {
     "data": {
      "text/plain": [
       "[('A', 'x'), ('B', 'y')]"
      ]
     },
     "execution_count": 18,
     "metadata": {},
     "output_type": "execute_result"
    }
   ],
   "source": [
    "# Pay attention, when the sequence has different numbers of elements\n",
    "list(zip('ABCD', 'xy'))"
   ]
  },
  {
   "cell_type": "code",
   "execution_count": 15,
   "id": "bd597748-1ded-4d4a-8d6e-78231c2cafa2",
   "metadata": {},
   "outputs": [],
   "source": [
    "# Creating lists\n",
    "a = [1,4,2]\n",
    "b = [5,9,7,6,3]"
   ]
  },
  {
   "cell_type": "code",
   "execution_count": 16,
   "id": "7866e8db-028d-4838-b0dd-78d328d26649",
   "metadata": {},
   "outputs": [
    {
     "data": {
      "text/plain": [
       "[(1, 5), (4, 9), (2, 7)]"
      ]
     },
     "execution_count": 16,
     "metadata": {},
     "output_type": "execute_result"
    }
   ],
   "source": [
    "list(zip(a,b))"
   ]
  },
  {
   "cell_type": "code",
   "execution_count": 19,
   "id": "7dbb3979-76fb-42c5-b496-c43c1dd70640",
   "metadata": {},
   "outputs": [],
   "source": [
    "# Creating 2 dictionaries\n",
    "d1 = {'a': 2, 'b': 4}\n",
    "d2 = {'c': 6, 'd': 8}"
   ]
  },
  {
   "cell_type": "code",
   "execution_count": 23,
   "id": "2425687b-d5dd-4021-9f65-c138157aef41",
   "metadata": {},
   "outputs": [
    {
     "data": {
      "text/plain": [
       "[('a', 'c'), ('b', 'd')]"
      ]
     },
     "execution_count": 23,
     "metadata": {},
     "output_type": "execute_result"
    }
   ],
   "source": [
    "# Joining the keys\n",
    "list(zip(d1, d2))"
   ]
  },
  {
   "cell_type": "code",
   "execution_count": 24,
   "id": "0c8da828-ed3f-4864-90e2-fbf52462d7f7",
   "metadata": {},
   "outputs": [
    {
     "data": {
      "text/plain": [
       "[('a', 6), ('b', 8)]"
      ]
     },
     "execution_count": 24,
     "metadata": {},
     "output_type": "execute_result"
    }
   ],
   "source": [
    "# Joining the dictionary values(itens)\n",
    "list(zip(d1, d2.values()))"
   ]
  },
  {
   "cell_type": "code",
   "execution_count": 27,
   "id": "a55e7ce9-6b71-456a-8894-065de5c0cd5e",
   "metadata": {},
   "outputs": [],
   "source": [
    "# Creating a function to swap values between 2 dictionaries\n",
    "def swapvalues(d1, d2):\n",
    "\n",
    "    dicTemp = {}\n",
    "\n",
    "    for d1key, d2val in zip(d1, d2.values()):\n",
    "        dicTemp[d1key] = d2val\n",
    "\n",
    "    return dicTemp"
   ]
  },
  {
   "cell_type": "code",
   "execution_count": 29,
   "id": "b560471d-2654-4a7a-894f-4759337a55df",
   "metadata": {},
   "outputs": [
    {
     "data": {
      "text/plain": [
       "{'a': 6, 'b': 8}"
      ]
     },
     "execution_count": 29,
     "metadata": {},
     "output_type": "execute_result"
    }
   ],
   "source": [
    "swapvalues(d1, d2)"
   ]
  },
  {
   "cell_type": "markdown",
   "id": "eb7f8a82-1227-4b86-ae35-12b6c181fb8b",
   "metadata": {},
   "source": [
    "# End"
   ]
  }
 ],
 "metadata": {
  "kernelspec": {
   "display_name": "Python 3 (ipykernel)",
   "language": "python",
   "name": "python3"
  },
  "language_info": {
   "codemirror_mode": {
    "name": "ipython",
    "version": 3
   },
   "file_extension": ".py",
   "mimetype": "text/x-python",
   "name": "python",
   "nbconvert_exporter": "python",
   "pygments_lexer": "ipython3",
   "version": "3.11.7"
  }
 },
 "nbformat": 4,
 "nbformat_minor": 5
}
